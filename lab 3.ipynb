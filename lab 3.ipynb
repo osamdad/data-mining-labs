{
 "cells": [
  {
   "cell_type": "code",
   "execution_count": 20,
   "metadata": {},
   "outputs": [
    {
     "name": "stdout",
     "output_type": "stream",
     "text": [
      "welcome!\n",
      "my favorite # is 7\n"
     ]
    }
   ],
   "source": [
    "def conform(fav):\n",
    "    fav=42\n",
    "    return fav\n",
    "if __name__==\"__main__\":\n",
    "    print('welcome!')\n",
    "    fav=7\n",
    "    conform(fav)\n",
    "    print(\"my favorite # is\",fav)"
   ]
  },
  {
   "cell_type": "code",
   "execution_count": 23,
   "metadata": {},
   "outputs": [
    {
     "name": "stdout",
     "output_type": "stream",
     "text": [
      "outside of the function {'A': 28, 'B': 25, 'C': 32, 'D': 25, 'E': 30, 'F': 28}\n"
     ]
    }
   ],
   "source": [
    "student={'A':28,'B':25,'C':32,'D':25}\n",
    "def test(student):\n",
    "    new={'E':30,'F':28}\n",
    "    student.update(new)\n",
    "    #print(\"inside the function\",student)\n",
    "    return\n",
    "test(student)\n",
    "print(\"outside of the function\",student)"
   ]
  },
  {
   "cell_type": "code",
   "execution_count": 26,
   "metadata": {},
   "outputs": [
    {
     "name": "stdout",
     "output_type": "stream",
     "text": [
      "osama dad\n"
     ]
    }
   ],
   "source": [
    "class student:\n",
    "    def __init__(self,name):\n",
    "        self.name=name\n",
    "        self.course_list=[]\n",
    "std=student(\"osama dad\")\n",
    "print(std.name)"
   ]
  },
  {
   "cell_type": "code",
   "execution_count": 37,
   "metadata": {},
   "outputs": [
    {
     "name": "stdout",
     "output_type": "stream",
     "text": [
      "['python']\n"
     ]
    }
   ],
   "source": [
    "class student:\n",
    "    def __init__(self,name):\n",
    "        self.name=name\n",
    "        self.course_list=[]\n",
    "    def add(self,new_course):\n",
    "        self.course_list.append(new_course)\n",
    "std=student(\"osama dad\")\n",
    "std.add(\"python\")\n",
    "print(std.course_list)"
   ]
  },
  {
   "cell_type": "code",
   "execution_count": 33,
   "metadata": {},
   "outputs": [
    {
     "name": "stdout",
     "output_type": "stream",
     "text": [
      "hello\n",
      "['hello']\n"
     ]
    }
   ],
   "source": [
    "class student:\n",
    "    def __init__(self,name):\n",
    "        self.name=name\n",
    "        self.course_list=[]\n",
    "    def add(self,new_course):\n",
    "        self.course_list.append(new_course)\n",
    "std=student(\"name\")\n",
    "txt=input(\"\")\n",
    "std.add(txt)\n",
    "print(std.course_list)"
   ]
  },
  {
   "cell_type": "code",
   "execution_count": 45,
   "metadata": {},
   "outputs": [
    {
     "name": "stdout",
     "output_type": "stream",
     "text": [
      "mohammed alsarem\n"
     ]
    }
   ],
   "source": [
    "class person:\n",
    "    def __init__(self,Fname,Lname):\n",
    "        self.firstname=Fname\n",
    "        self.lastname=Lname\n",
    "    def printname(self):\n",
    "        print(self.firstname,self.lastname)\n",
    "class professor(person):\n",
    "    pass\n",
    "mhd = professor(\"mohammed\",\"alsarem\")\n",
    "mhd.printname()"
   ]
  },
  {
   "cell_type": "code",
   "execution_count": null,
   "metadata": {},
   "outputs": [],
   "source": []
  }
 ],
 "metadata": {
  "kernelspec": {
   "display_name": "Python 3",
   "language": "python",
   "name": "python3"
  },
  "language_info": {
   "codemirror_mode": {
    "name": "ipython",
    "version": 3
   },
   "file_extension": ".py",
   "mimetype": "text/x-python",
   "name": "python",
   "nbconvert_exporter": "python",
   "pygments_lexer": "ipython3",
   "version": "3.8.5"
  }
 },
 "nbformat": 4,
 "nbformat_minor": 4
}
